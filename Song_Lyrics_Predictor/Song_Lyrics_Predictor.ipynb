{
  "nbformat": 4,
  "nbformat_minor": 0,
  "metadata": {
    "colab": {
      "name": "Song_Lyrics_Predictor.ipynb",
      "provenance": []
    },
    "kernelspec": {
      "name": "python3",
      "display_name": "Python 3"
    },
    "accelerator": "GPU"
  },
  "cells": [
    {
      "cell_type": "markdown",
      "metadata": {
        "id": "47KbDolIU37D",
        "colab_type": "text"
      },
      "source": [
        "## A Model predicting Song Lyrics \n",
        "Song - \"All of me\" by Johnny Legend"
      ]
    },
    {
      "cell_type": "code",
      "metadata": {
        "id": "Kp5EH3ZeU3Vm",
        "colab_type": "code",
        "colab": {}
      },
      "source": [
        ""
      ],
      "execution_count": 3,
      "outputs": []
    },
    {
      "cell_type": "code",
      "metadata": {
        "id": "OK7du3T5GR5c",
        "colab_type": "code",
        "colab": {}
      },
      "source": [
        "import tensorflow as tf\n",
        "from tensorflow.keras.layers import Embedding, LSTM, Dense, Bidirectional, Dropout\n",
        "from tensorflow.keras.preprocessing.text import Tokenizer\n",
        "from tensorflow.keras.models import Sequential\n",
        "from tensorflow.keras.optimizers import Adam\n",
        "from tensorflow.keras.preprocessing.sequence import pad_sequences\n",
        "from tensorflow.keras.utils import to_categorical\n",
        "import numpy as np"
      ],
      "execution_count": 4,
      "outputs": []
    },
    {
      "cell_type": "code",
      "metadata": {
        "id": "CyceKk_pIHUs",
        "colab_type": "code",
        "colab": {}
      },
      "source": [
        "data = open('all_of_me.txt').read()\n",
        "corpus = data.lower().split(\"\\n\")"
      ],
      "execution_count": 5,
      "outputs": []
    },
    {
      "cell_type": "markdown",
      "metadata": {
        "id": "-uR2MJCYbJqf",
        "colab_type": "text"
      },
      "source": [
        "Tokenizing the words in the data."
      ]
    },
    {
      "cell_type": "code",
      "metadata": {
        "id": "kHpegsbIIUNY",
        "colab_type": "code",
        "colab": {}
      },
      "source": [
        "tokenizer = Tokenizer()\n",
        "\n",
        "tokenizer.fit_on_texts(corpus)\n",
        "total_words = len(tokenizer.word_index) + 1\n"
      ],
      "execution_count": 6,
      "outputs": []
    },
    {
      "cell_type": "code",
      "metadata": {
        "id": "VEbmLbO1Iq6a",
        "colab_type": "code",
        "colab": {
          "base_uri": "https://localhost:8080/",
          "height": 54
        },
        "outputId": "5d742319-ecab-4d1d-e322-1aeb9ce6e08e"
      },
      "source": [
        "print(tokenizer.word_index)"
      ],
      "execution_count": 7,
      "outputs": [
        {
          "output_type": "stream",
          "text": [
            "{'all': 1, 'you': 2, 'my': 3, 'me': 4, 'of': 5, 'and': 6, 'give': 7, 'your': 8, 'i': 9, \"i'm\": 10, \"you're\": 11, 'to': 12, 'oh': 13, \"'cause\": 14, \"i'll\": 15, 'even': 16, 'when': 17, 'in': 18, 'out': 19, 'on': 20, 'mind': 21, 'but': 22, 'loves': 23, 'love': 24, 'curves': 25, 'edges': 26, 'perfect': 27, 'imperfections': 28, 'end': 29, 'beginning': 30, 'lose': 31, 'winning': 32, 'what': 33, 'do': 34, 'head': 35, \"can't\": 36, 'down': 37, 'beautiful': 38, \"head's\": 39, 'under': 40, 'water': 41, 'breathing': 42, 'fine': 43, 'crazy': 44, 'the': 45, \"it's\": 46, 'would': 47, 'without': 48, 'smart': 49, 'mouth': 50, 'drawing': 51, 'kicking': 52, \"you've\": 53, 'got': 54, 'spinning': 55, 'no': 56, 'kidding': 57, 'pin': 58, \"what's\": 59, 'going': 60, 'that': 61, 'magical': 62, 'mystery': 63, 'ride': 64, 'so': 65, 'dizzy': 66, \"don't\": 67, 'know': 68, 'hit': 69, 'be': 70, 'alright': 71, 'how': 72, 'many': 73, 'times': 74, 'have': 75, 'tell': 76, 'crying': 77, 'too': 78, 'world': 79, 'is': 80, 'beating': 81, 'around': 82, 'through': 83, 'every': 84, 'mood': 85, 'downfall': 86, 'muse': 87, 'worst': 88, 'distraction': 89, 'rhythm': 90, 'blues': 91, 'stop': 92, 'singing': 93, 'ringing': 94, 'for': 95, 'cards': 96, 'table': 97, \"we're\": 98, 'both': 99, 'showing': 100, 'hearts': 101, 'risking': 102, 'it': 103, 'though': 104, 'hard': 105}\n"
          ],
          "name": "stdout"
        }
      ]
    },
    {
      "cell_type": "code",
      "metadata": {
        "id": "3ZxO_v5jI45c",
        "colab_type": "code",
        "colab": {
          "base_uri": "https://localhost:8080/",
          "height": 34
        },
        "outputId": "e1d4218c-a808-4c6a-a77a-5df6c6ec5462"
      },
      "source": [
        "print(total_words)"
      ],
      "execution_count": 8,
      "outputs": [
        {
          "output_type": "stream",
          "text": [
            "106\n"
          ],
          "name": "stdout"
        }
      ]
    },
    {
      "cell_type": "code",
      "metadata": {
        "id": "qbS2MpznKC0k",
        "colab_type": "code",
        "colab": {
          "base_uri": "https://localhost:8080/",
          "height": 54
        },
        "outputId": "ef23f522-a220-4d8c-c04b-d045b66344b6"
      },
      "source": [
        "print(corpus)"
      ],
      "execution_count": 9,
      "outputs": [
        {
          "output_type": "stream",
          "text": [
            "['what would i do without your smart mouth?', 'drawing me in, and you kicking me out', \"you've got my head spinning, no kidding, i can't pin you down\", \"what's going on in that beautiful mind?\", \"i'm on your magical mystery ride\", \"and i'm so dizzy, don't know what hit me, but i'll be alright\", \"my head's under water\", \"but i'm breathing fine\", \"you're crazy and i'm out of my mind\", \"'cause all of me\", 'loves all of you', 'love your curves and all your edges', 'all your perfect imperfections', 'give your all to me', \"i'll give my all to you\", \"you're my end and my beginning\", \"even when i lose i'm winning\", \"'cause i give you all of me\", 'and you give me all of you, oh-oh', 'how many times do i have to tell you?', \"even when you're crying, you're beautiful too\", \"the world is beating you down, i'm around through every mood\", \"you're my downfall, you're my muse\", 'my worst distraction, my rhythm and blues', \"i can't stop singing, it's ringing, in my head for you\", \"my head's under water\", \"but i'm breathing fine\", \"you're crazy and i'm out of my mind\", \"'cause all of me\", 'loves all of you', 'love your curves and all your edges', 'all your perfect imperfections', 'give your all to me', \"i'll give my all to you\", \"you're my end and my beginning\", \"even when i lose i'm winning\", \"'cause i give you all of me\", 'and you give me all of you, oh-oh', 'give me all of you, oh', \"cards on the table, we're both showing hearts\", \"risking it all, though it's hard\", \"'cause all of me\", 'loves all of you', 'love your curves and all your edges', 'all your perfect imperfections', 'give your all to me', \"i'll give my all to you\", \"you're my end and my beginning\", \"even when i lose i'm winning\", \"'cause i give you all of me\", 'and you give me all of you', 'i give you all of me', 'and you give me all of you, oh-oh']\n"
          ],
          "name": "stdout"
        }
      ]
    },
    {
      "cell_type": "markdown",
      "metadata": {
        "id": "71NOLF-rbS6b",
        "colab_type": "text"
      },
      "source": [
        "Creating the padded sequence which will be fed to the network along the tokens ( numerical forms of the words in the dataset)."
      ]
    },
    {
      "cell_type": "code",
      "metadata": {
        "id": "N_0lXHb0I9Et",
        "colab_type": "code",
        "colab": {}
      },
      "source": [
        "input_sequences = []\n",
        "for line in corpus:\n",
        "  token_list = tokenizer.texts_to_sequences([line])[0]\n",
        "  for i in range(1, len(token_list)):\n",
        "    n_gram_sequence = token_list[:i+1]\n",
        "    input_sequences.append(n_gram_sequence)\n",
        "# the above makes the pyramid of list with length equal to the words in the line.\n",
        "\n",
        "# the code below change the pyramid structure a squre by adding padding\n",
        "\n",
        "max_sequence_len = max([len(x) for x in input_sequences])\n",
        "input_sequences = np.array(pad_sequences(input_sequences,maxlen=max_sequence_len,padding='pre'))\n",
        "\n"
      ],
      "execution_count": 10,
      "outputs": []
    },
    {
      "cell_type": "markdown",
      "metadata": {
        "id": "0nzwm5A6atJN",
        "colab_type": "text"
      },
      "source": [
        "Splitting each sentence with the last word of every sentence as the label for that particular sentence. \n",
        "\n",
        "*The basic split for dealing with time series data*"
      ]
    },
    {
      "cell_type": "code",
      "metadata": {
        "id": "NzLqn4vILFYx",
        "colab_type": "code",
        "colab": {}
      },
      "source": [
        "xs, labels = input_sequences[:,:-1],input_sequences[:,-1]\n",
        "ys = to_categorical(labels, num_classes = total_words) "
      ],
      "execution_count": 11,
      "outputs": []
    },
    {
      "cell_type": "code",
      "metadata": {
        "id": "npWnB_gpLZTN",
        "colab_type": "code",
        "colab": {
          "base_uri": "https://localhost:8080/",
          "height": 34
        },
        "outputId": "c7e754ce-62fb-45c7-9035-860789b99faf"
      },
      "source": [
        "print(len(xs))"
      ],
      "execution_count": 12,
      "outputs": [
        {
          "output_type": "stream",
          "text": [
            "291\n"
          ],
          "name": "stdout"
        }
      ]
    },
    {
      "cell_type": "code",
      "metadata": {
        "id": "taGoxOqMLj2h",
        "colab_type": "code",
        "colab": {
          "base_uri": "https://localhost:8080/",
          "height": 34
        },
        "outputId": "d7b36fba-59df-414c-c05a-f7cbe3fa5a30"
      },
      "source": [
        "print(len(ys))"
      ],
      "execution_count": 13,
      "outputs": [
        {
          "output_type": "stream",
          "text": [
            "291\n"
          ],
          "name": "stdout"
        }
      ]
    },
    {
      "cell_type": "code",
      "metadata": {
        "id": "uuRK_Y0_LpBz",
        "colab_type": "code",
        "colab": {
          "base_uri": "https://localhost:8080/",
          "height": 151
        },
        "outputId": "e579a5a1-18b6-4baf-fcf1-5ad1beb125f3"
      },
      "source": [
        "print(tokenizer.word_index['mouth'])\n",
        "print(tokenizer.word_index['kidding'])\n",
        "print(tokenizer.word_index['imperfections'])\n",
        "print(tokenizer.word_index['beginning'])\n",
        "print(tokenizer.word_index['ringing'])\n",
        "print(tokenizer.word_index['edges'])\n",
        "print(tokenizer.word_index['showing'])\n",
        "print(tokenizer.word_index['hearts'])"
      ],
      "execution_count": 14,
      "outputs": [
        {
          "output_type": "stream",
          "text": [
            "50\n",
            "57\n",
            "28\n",
            "30\n",
            "94\n",
            "26\n",
            "100\n",
            "101\n"
          ],
          "name": "stdout"
        }
      ]
    },
    {
      "cell_type": "markdown",
      "metadata": {
        "id": "J3SUC9xRaT2a",
        "colab_type": "text"
      },
      "source": [
        "A sample of input_sentence where the last two are actual words and the remaining zeros refer to padding.\n",
        "\n",
        "The corresponding label for 'xs[1]' is also shown i.e. 'ys[1]'"
      ]
    },
    {
      "cell_type": "code",
      "metadata": {
        "id": "xcynFrEIPPt5",
        "colab_type": "code",
        "colab": {
          "base_uri": "https://localhost:8080/",
          "height": 34
        },
        "outputId": "fd26a50c-38c2-4e4a-a687-bdfd3b764fb5"
      },
      "source": [
        "print(xs[1])"
      ],
      "execution_count": 15,
      "outputs": [
        {
          "output_type": "stream",
          "text": [
            "[ 0  0  0  0  0  0  0  0  0  0 33 47]\n"
          ],
          "name": "stdout"
        }
      ]
    },
    {
      "cell_type": "code",
      "metadata": {
        "id": "n91U1-hIPSDj",
        "colab_type": "code",
        "colab": {
          "base_uri": "https://localhost:8080/",
          "height": 101
        },
        "outputId": "0b021eb6-21a8-4169-c2cc-7d24c9397aa4"
      },
      "source": [
        "print(ys[1])"
      ],
      "execution_count": 16,
      "outputs": [
        {
          "output_type": "stream",
          "text": [
            "[0. 0. 0. 0. 0. 0. 0. 0. 0. 1. 0. 0. 0. 0. 0. 0. 0. 0. 0. 0. 0. 0. 0. 0.\n",
            " 0. 0. 0. 0. 0. 0. 0. 0. 0. 0. 0. 0. 0. 0. 0. 0. 0. 0. 0. 0. 0. 0. 0. 0.\n",
            " 0. 0. 0. 0. 0. 0. 0. 0. 0. 0. 0. 0. 0. 0. 0. 0. 0. 0. 0. 0. 0. 0. 0. 0.\n",
            " 0. 0. 0. 0. 0. 0. 0. 0. 0. 0. 0. 0. 0. 0. 0. 0. 0. 0. 0. 0. 0. 0. 0. 0.\n",
            " 0. 0. 0. 0. 0. 0. 0. 0. 0. 0.]\n"
          ],
          "name": "stdout"
        }
      ]
    },
    {
      "cell_type": "markdown",
      "metadata": {
        "id": "n3ecg6FYaozA",
        "colab_type": "text"
      },
      "source": [
        "Creating the model.\n"
      ]
    },
    {
      "cell_type": "code",
      "metadata": {
        "id": "YRbPZkdmNwZy",
        "colab_type": "code",
        "colab": {}
      },
      "source": [
        "model = Sequential()\n",
        "model.add(Embedding(total_words, 100, input_length = max_sequence_len - 1))\n",
        "model.add(Bidirectional(LSTM(150)))\n",
        "model.add(Dense(total_words, activation='softmax'))\n",
        "adam = Adam(lr=0.02)\n",
        "model.compile(optimizer=adam,loss='categorical_crossentropy',metrics=['accuracy'])"
      ],
      "execution_count": 17,
      "outputs": []
    },
    {
      "cell_type": "code",
      "metadata": {
        "id": "cwkrJWWyOpB2",
        "colab_type": "code",
        "colab": {
          "base_uri": "https://localhost:8080/",
          "height": 252
        },
        "outputId": "f8890450-214c-4c0b-d424-d47117455623"
      },
      "source": [
        "model.summary()"
      ],
      "execution_count": 18,
      "outputs": [
        {
          "output_type": "stream",
          "text": [
            "Model: \"sequential\"\n",
            "_________________________________________________________________\n",
            "Layer (type)                 Output Shape              Param #   \n",
            "=================================================================\n",
            "embedding (Embedding)        (None, 12, 100)           10600     \n",
            "_________________________________________________________________\n",
            "bidirectional (Bidirectional (None, 300)               301200    \n",
            "_________________________________________________________________\n",
            "dense (Dense)                (None, 106)               31906     \n",
            "=================================================================\n",
            "Total params: 343,706\n",
            "Trainable params: 343,706\n",
            "Non-trainable params: 0\n",
            "_________________________________________________________________\n"
          ],
          "name": "stdout"
        }
      ]
    },
    {
      "cell_type": "code",
      "metadata": {
        "id": "G-mdPfKyOcen",
        "colab_type": "code",
        "colab": {
          "base_uri": "https://localhost:8080/",
          "height": 706
        },
        "outputId": "b7e510dc-9271-4e44-e464-3eadeb18b083"
      },
      "source": [
        "model.fit(xs,ys,epochs=20,verbose=1)"
      ],
      "execution_count": 19,
      "outputs": [
        {
          "output_type": "stream",
          "text": [
            "Epoch 1/20\n",
            "10/10 [==============================] - 0s 13ms/step - loss: 4.5705 - accuracy: 0.0584\n",
            "Epoch 2/20\n",
            "10/10 [==============================] - 0s 13ms/step - loss: 3.7260 - accuracy: 0.1168\n",
            "Epoch 3/20\n",
            "10/10 [==============================] - 0s 14ms/step - loss: 2.6767 - accuracy: 0.3299\n",
            "Epoch 4/20\n",
            "10/10 [==============================] - 0s 15ms/step - loss: 1.8133 - accuracy: 0.5120\n",
            "Epoch 5/20\n",
            "10/10 [==============================] - 0s 14ms/step - loss: 1.0809 - accuracy: 0.6942\n",
            "Epoch 6/20\n",
            "10/10 [==============================] - 0s 14ms/step - loss: 0.6985 - accuracy: 0.8076\n",
            "Epoch 7/20\n",
            "10/10 [==============================] - 0s 13ms/step - loss: 0.5385 - accuracy: 0.8316\n",
            "Epoch 8/20\n",
            "10/10 [==============================] - 0s 13ms/step - loss: 0.3150 - accuracy: 0.9038\n",
            "Epoch 9/20\n",
            "10/10 [==============================] - 0s 14ms/step - loss: 0.2018 - accuracy: 0.9381\n",
            "Epoch 10/20\n",
            "10/10 [==============================] - 0s 14ms/step - loss: 0.1283 - accuracy: 0.9622\n",
            "Epoch 11/20\n",
            "10/10 [==============================] - 0s 13ms/step - loss: 0.1235 - accuracy: 0.9450\n",
            "Epoch 12/20\n",
            "10/10 [==============================] - 0s 13ms/step - loss: 0.1278 - accuracy: 0.9519\n",
            "Epoch 13/20\n",
            "10/10 [==============================] - 0s 13ms/step - loss: 0.1286 - accuracy: 0.9485\n",
            "Epoch 14/20\n",
            "10/10 [==============================] - 0s 13ms/step - loss: 0.1260 - accuracy: 0.9450\n",
            "Epoch 15/20\n",
            "10/10 [==============================] - 0s 14ms/step - loss: 0.1343 - accuracy: 0.9450\n",
            "Epoch 16/20\n",
            "10/10 [==============================] - 0s 14ms/step - loss: 0.1015 - accuracy: 0.9588\n",
            "Epoch 17/20\n",
            "10/10 [==============================] - 0s 12ms/step - loss: 0.1220 - accuracy: 0.9588\n",
            "Epoch 18/20\n",
            "10/10 [==============================] - 0s 12ms/step - loss: 0.1249 - accuracy: 0.9553\n",
            "Epoch 19/20\n",
            "10/10 [==============================] - 0s 13ms/step - loss: 0.1154 - accuracy: 0.9450\n",
            "Epoch 20/20\n",
            "10/10 [==============================] - 0s 14ms/step - loss: 0.1198 - accuracy: 0.9588\n"
          ],
          "name": "stdout"
        },
        {
          "output_type": "execute_result",
          "data": {
            "text/plain": [
              "<tensorflow.python.keras.callbacks.History at 0x7ffa101bd160>"
            ]
          },
          "metadata": {
            "tags": []
          },
          "execution_count": 19
        }
      ]
    },
    {
      "cell_type": "code",
      "metadata": {
        "id": "D9hnfhJcOjns",
        "colab_type": "code",
        "colab": {}
      },
      "source": [
        "import matplotlib.pyplot as plt\n",
        "\n",
        "def plot_graphs(history, string):\n",
        "  plt.plot(history.history[string])\n",
        "  plt.xlabel(\"Epochs\")\n",
        "  plt.ylabel(string)\n",
        "  plt.show()"
      ],
      "execution_count": 20,
      "outputs": []
    },
    {
      "cell_type": "code",
      "metadata": {
        "id": "eXFM-_wwQEav",
        "colab_type": "code",
        "colab": {
          "base_uri": "https://localhost:8080/",
          "height": 282
        },
        "outputId": "00abff47-4f7a-4e55-9e6e-5d42c2d554d4"
      },
      "source": [
        "plot_graphs(model.history, 'accuracy')"
      ],
      "execution_count": 21,
      "outputs": [
        {
          "output_type": "display_data",
          "data": {
            "image/png": "[encoded data removed]",
            "text/plain": [
              "<Figure size 432x288 with 1 Axes>"
            ]
          },
          "metadata": {
            "tags": [],
            "needs_background": "light"
          }
        }
      ]
    },
    {
      "cell_type": "code",
      "metadata": {
        "id": "seMP5Vr2QIt4",
        "colab_type": "code",
        "colab": {
          "base_uri": "https://localhost:8080/",
          "height": 104
        },
        "outputId": "9b168a21-f7a6-43fb-df0a-8affdbe39b6b"
      },
      "source": [
        "seed_text = \"How many times do I have to tell you?\"\n",
        "next_word = 50\n",
        "for _ in range(next_word):\n",
        "  token_list = tokenizer.texts_to_sequences([seed_text])[0]\n",
        "  token_list = pad_sequences([token_list], maxlen=max_sequence_len -1,padding='pre')\n",
        "  predicted = model.predict_classes(token_list, verbose=0)\n",
        "  outout_word=''\n",
        "  for word, index in tokenizer.word_index.items():\n",
        "    if index == predicted:\n",
        "      output_word = word\n",
        "      break\n",
        "  seed_text +=\" \"+output_word\n",
        "print(seed_text) "
      ],
      "execution_count": 22,
      "outputs": [
        {
          "output_type": "stream",
          "text": [
            "WARNING:tensorflow:From <ipython-input-22-0648ab66da32>:6: Sequential.predict_classes (from tensorflow.python.keras.engine.sequential) is deprecated and will be removed after 2021-01-01.\n",
            "Instructions for updating:\n",
            "Please use instead:* `np.argmax(model.predict(x), axis=-1)`,   if your model does multi-class classification   (e.g. if it uses a `softmax` last-layer activation).* `(model.predict(x) > 0.5).astype(\"int32\")`,   if your model does binary classification   (e.g. if it uses a `sigmoid` last-layer activation).\n",
            "How many times do I have to tell you? down i'm around through every mood mood down down i'm around through mood alright down down down i'm around through alright alright down i'm around through every mood alright alright down you but i'm mood alright mood alright alright hit me but i'll be alright alright out of i'm of\n"
          ],
          "name": "stdout"
        }
      ]
    },
    {
      "cell_type": "markdown",
      "metadata": {
        "id": "RNv7VWjDZSL8",
        "colab_type": "text"
      },
      "source": [
        "\"How many times do I have to tell you? down i'm around through every mood mood down down i'm around through mood alright down down down i'm around through alright alright down i'm around through every mood alright alright down you but i'm mood alright mood alright alright hit me but i'll be alright alright out of i'm of\"  -> prediction made by the model.\n",
        "\n",
        "The lyrics aren't exactly the same or in other word the prediction made by the model isn't very accurate but they make some sense related to the actual song."
      ]
    },
    {
      "cell_type": "code",
      "metadata": {
        "id": "GRFMp4eAaQyR",
        "colab_type": "code",
        "colab": {}
      },
      "source": [
        ""
      ],
      "execution_count": null,
      "outputs": []
    }
  ]
}