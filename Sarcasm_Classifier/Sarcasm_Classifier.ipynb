{
  "nbformat": 4,
  "nbformat_minor": 0,
  "metadata": {
    "colab": {
      "name": "Sarcasm_Classifier.ipynb",
      "provenance": []
    },
    "kernelspec": {
      "name": "python3",
      "display_name": "Python 3"
    }
  },
  "cells": [
    {
      "cell_type": "markdown",
      "metadata": {
        "id": "Jtd63QN8AIvg",
        "colab_type": "text"
      },
      "source": [
        "## Sarscam Classifier\n"
      ]
    },
    {
      "cell_type": "code",
      "metadata": {
        "id": "rvJlEeh2itiT",
        "colab_type": "code",
        "colab": {}
      },
      "source": [
        "import json\n",
        "import tensorflow as tf\n",
        "\n",
        "from tensorflow.keras.preprocessing.text import Tokenizer\n",
        "from tensorflow.keras.preprocessing.sequence import pad_sequences"
      ],
      "execution_count": 1,
      "outputs": []
    },
    {
      "cell_type": "markdown",
      "metadata": {
        "id": "uvX9naiyDYVT",
        "colab_type": "text"
      },
      "source": [
        "Defining the variables:\n",
        "1. dictionary size\n",
        "2. embedding size\n",
        "3. max length of a single input\n",
        "4. truncating type\n",
        "5. padding type\n",
        "6. token for words not in vocabulary\n",
        "7. defining the size of the train set and remaining will be the test set."
      ]
    },
    {
      "cell_type": "code",
      "metadata": {
        "id": "2bj8Tf39jIa0",
        "colab_type": "code",
        "colab": {}
      },
      "source": [
        "vocab_size = 10000\n",
        "embedding_dim = 16\n",
        "max_length =  90\n",
        "truc_type ='post'\n",
        "padding_type = 'post'\n",
        "oov_tok = \"<OOV>\"\n",
        "training_size = 20000"
      ],
      "execution_count": 2,
      "outputs": []
    },
    {
      "cell_type": "markdown",
      "metadata": {
        "id": "XovLJcrBDyJS",
        "colab_type": "text"
      },
      "source": [
        "Downloading the dataset.... from kaggel"
      ]
    },
    {
      "cell_type": "code",
      "metadata": {
        "id": "6_zzur_emfgq",
        "colab_type": "code",
        "colab": {
          "base_uri": "https://localhost:8080/",
          "height": 202
        },
        "outputId": "233929e0-9f4f-4e6e-abba-3da08167ba88"
      },
      "source": [
        "!wget --no-check-certificate \\\n",
        "    https://storage.googleapis.com/laurencemoroney-blog.appspot.com/sarcasm.json \\\n",
        "    -O /tmp/sarcasm.json\n"
      ],
      "execution_count": 3,
      "outputs": [
        {
          "output_type": "stream",
          "text": [
            "--2020-07-01 06:09:17--  https://storage.googleapis.com/laurencemoroney-blog.appspot.com/sarcasm.json\n",
            "Resolving storage.googleapis.com (storage.googleapis.com)... 108.177.119.128, 108.177.126.128, 173.194.69.128, ...\n",
            "Connecting to storage.googleapis.com (storage.googleapis.com)|108.177.119.128|:443... connected.\n",
            "HTTP request sent, awaiting response... 200 OK\n",
            "Length: 5643545 (5.4M) [application/json]\n",
            "Saving to: ‘/tmp/sarcasm.json’\n",
            "\n",
            "\r/tmp/sarcasm.json     0%[                    ]       0  --.-KB/s               \r/tmp/sarcasm.json   100%[===================>]   5.38M  --.-KB/s    in 0.04s   \n",
            "\n",
            "2020-07-01 06:09:17 (138 MB/s) - ‘/tmp/sarcasm.json’ saved [5643545/5643545]\n",
            "\n"
          ],
          "name": "stdout"
        }
      ]
    },
    {
      "cell_type": "markdown",
      "metadata": {
        "id": "Cilj_H5UCk9E",
        "colab_type": "text"
      },
      "source": [
        "Splitting the data into two parts \"sentences\" and \"labels\""
      ]
    },
    {
      "cell_type": "code",
      "metadata": {
        "id": "wNZeqdsOmh_A",
        "colab_type": "code",
        "colab": {}
      },
      "source": [
        "with open('/tmp/sarcasm.json','r') as f:\n",
        "  datastore = json.load(f)\n",
        "\n",
        "sentences = []\n",
        "labels = []\n",
        "\n",
        "for item in datastore:\n",
        "  sentences.append(item['headline'])\n",
        "  labels.append(item['is_sarcastic'])"
      ],
      "execution_count": 4,
      "outputs": []
    },
    {
      "cell_type": "code",
      "metadata": {
        "id": "kkHCGucXnF0v",
        "colab_type": "code",
        "colab": {
          "base_uri": "https://localhost:8080/",
          "height": 195
        },
        "outputId": "9eca3ff2-49b3-4f0d-ce1e-59f5ee205d9f"
      },
      "source": [
        "import pandas as pd\n",
        "pd.DataFrame(labels,sentences,).head()"
      ],
      "execution_count": 5,
      "outputs": [
        {
          "output_type": "execute_result",
          "data": {
            "text/html": [
              "<div>\n",
              "<style scoped>\n",
              "    .dataframe tbody tr th:only-of-type {\n",
              "        vertical-align: middle;\n",
              "    }\n",
              "\n",
              "    .dataframe tbody tr th {\n",
              "        vertical-align: top;\n",
              "    }\n",
              "\n",
              "    .dataframe thead th {\n",
              "        text-align: right;\n",
              "    }\n",
              "</style>\n",
              "<table border=\"1\" class=\"dataframe\">\n",
              "  <thead>\n",
              "    <tr style=\"text-align: right;\">\n",
              "      <th></th>\n",
              "      <th>0</th>\n",
              "    </tr>\n",
              "  </thead>\n",
              "  <tbody>\n",
              "    <tr>\n",
              "      <th>former versace store clerk sues over secret 'black code' for minority shoppers</th>\n",
              "      <td>0</td>\n",
              "    </tr>\n",
              "    <tr>\n",
              "      <th>the 'roseanne' revival catches up to our thorny political mood, for better and worse</th>\n",
              "      <td>0</td>\n",
              "    </tr>\n",
              "    <tr>\n",
              "      <th>mom starting to fear son's web series closest thing she will have to grandchild</th>\n",
              "      <td>1</td>\n",
              "    </tr>\n",
              "    <tr>\n",
              "      <th>boehner just wants wife to listen, not come up with alternative debt-reduction ideas</th>\n",
              "      <td>1</td>\n",
              "    </tr>\n",
              "    <tr>\n",
              "      <th>j.k. rowling wishes snape happy birthday in the most magical way</th>\n",
              "      <td>0</td>\n",
              "    </tr>\n",
              "  </tbody>\n",
              "</table>\n",
              "</div>"
            ],
            "text/plain": [
              "                                                    0\n",
              "former versace store clerk sues over secret 'bl...  0\n",
              "the 'roseanne' revival catches up to our thorny...  0\n",
              "mom starting to fear son's web series closest t...  1\n",
              "boehner just wants wife to listen, not come up ...  1\n",
              "j.k. rowling wishes snape happy birthday in the...  0"
            ]
          },
          "metadata": {
            "tags": []
          },
          "execution_count": 5
        }
      ]
    },
    {
      "cell_type": "markdown",
      "metadata": {
        "id": "XRV46dKjDHRn",
        "colab_type": "text"
      },
      "source": [
        "Splitting the data in training and testing sets"
      ]
    },
    {
      "cell_type": "code",
      "metadata": {
        "id": "1hjMGIRVqQGu",
        "colab_type": "code",
        "colab": {}
      },
      "source": [
        "training_sentences = sentences[0:training_size]\n",
        "testing_sentences = sentences[training_size:]\n",
        "\n",
        "training_labels = labels[0:training_size]\n",
        "testing_labels = labels[training_size:]"
      ],
      "execution_count": 6,
      "outputs": []
    },
    {
      "cell_type": "markdown",
      "metadata": {
        "id": "yp6NHBNkDL_V",
        "colab_type": "text"
      },
      "source": [
        "Creating token for the words in the sequences."
      ]
    },
    {
      "cell_type": "code",
      "metadata": {
        "id": "wP1yS_oZt0Ob",
        "colab_type": "code",
        "colab": {}
      },
      "source": [
        "tokenizer = Tokenizer(num_words=vocab_size, oov_token=oov_tok)\n",
        "tokenizer.fit_on_texts(training_sentences)\n",
        "\n",
        "word_index = tokenizer.word_index\n",
        "\n",
        "training_sequences = tokenizer.texts_to_sequences(training_sentences)\n",
        "training_padded = pad_sequences(training_sequences, maxlen=max_length,\n",
        "                                padding=padding_type,truncating= truc_type)\n",
        "\n",
        "testing_sequences = tokenizer.texts_to_sequences(testing_sentences)\n",
        "testing_padded = pad_sequences(testing_sequences, maxlen=max_length,\n",
        "                                padding=padding_type,truncating= truc_type)"
      ],
      "execution_count": 7,
      "outputs": []
    },
    {
      "cell_type": "code",
      "metadata": {
        "id": "9pAWVgKJwbXO",
        "colab_type": "code",
        "colab": {}
      },
      "source": [
        "import numpy as np\n",
        "training_padded = np.array(training_padded)\n",
        "training_labels = np.array(training_labels)\n",
        "\n",
        "testing_padded = np.array(testing_padded)\n",
        "testing_labels = np.array(testing_labels)"
      ],
      "execution_count": 8,
      "outputs": []
    },
    {
      "cell_type": "code",
      "metadata": {
        "id": "m2nchZp23atZ",
        "colab_type": "code",
        "colab": {
          "base_uri": "https://localhost:8080/",
          "height": 87
        },
        "outputId": "f976c0c6-27be-447d-a785-7704da0b03dc"
      },
      "source": [
        "reverse_word_index = dict([(value,key) for (key,value) in word_index.items()])\n",
        "\n",
        "def decode_sentence(text):\n",
        "  return ' '.join([reverse_word_index.get(i, '?') for i in text])\n",
        "\n",
        "print(decode_sentence(training_padded[0]))\n",
        "print(training_sentences[2])\n",
        "print(labels[2])"
      ],
      "execution_count": 9,
      "outputs": [
        {
          "output_type": "stream",
          "text": [
            "former <OOV> store clerk sues over secret 'black <OOV> for minority shoppers ? ? ? ? ? ? ? ? ? ? ? ? ? ? ? ? ? ? ? ? ? ? ? ? ? ? ? ? ? ? ? ? ? ? ? ? ? ? ? ? ? ? ? ? ? ? ? ? ? ? ? ? ? ? ? ? ? ? ? ? ? ? ? ? ? ? ? ? ? ? ? ? ? ? ? ? ? ?\n",
            "mom starting to fear son's web series closest thing she will have to grandchild\n",
            "1\n"
          ],
          "name": "stdout"
        }
      ]
    },
    {
      "cell_type": "code",
      "metadata": {
        "id": "YXZCxgPcxBtX",
        "colab_type": "code",
        "colab": {}
      },
      "source": [
        "model = tf.keras.Sequential([\n",
        "        tf.keras.layers.Embedding(vocab_size,embedding_dim,input_length=max_length),\n",
        "        tf.keras.layers.Flatten(),\n",
        "        tf.keras.layers.Dense(24, activation='relu'),\n",
        "        tf.keras.layers.Dense(1, activation='sigmoid')\n",
        "])\n",
        "\n",
        "model.compile(loss='binary_crossentropy',optimizer='adam',metrics=['accuracy'])"
      ],
      "execution_count": 10,
      "outputs": []
    },
    {
      "cell_type": "code",
      "metadata": {
        "id": "FEnCl_v1yWcp",
        "colab_type": "code",
        "colab": {
          "base_uri": "https://localhost:8080/",
          "height": 286
        },
        "outputId": "8c393c9a-a270-4bd7-b589-76f1092f0385"
      },
      "source": [
        "model.summary()"
      ],
      "execution_count": 11,
      "outputs": [
        {
          "output_type": "stream",
          "text": [
            "Model: \"sequential\"\n",
            "_________________________________________________________________\n",
            "Layer (type)                 Output Shape              Param #   \n",
            "=================================================================\n",
            "embedding (Embedding)        (None, 90, 16)            160000    \n",
            "_________________________________________________________________\n",
            "flatten (Flatten)            (None, 1440)              0         \n",
            "_________________________________________________________________\n",
            "dense (Dense)                (None, 24)                34584     \n",
            "_________________________________________________________________\n",
            "dense_1 (Dense)              (None, 1)                 25        \n",
            "=================================================================\n",
            "Total params: 194,609\n",
            "Trainable params: 194,609\n",
            "Non-trainable params: 0\n",
            "_________________________________________________________________\n"
          ],
          "name": "stdout"
        }
      ]
    },
    {
      "cell_type": "code",
      "metadata": {
        "id": "VUlLbfE-yZfE",
        "colab_type": "code",
        "colab": {
          "base_uri": "https://localhost:8080/",
          "height": 1000
        },
        "outputId": "81c5cab1-75f3-4b31-f860-6612cd00361f"
      },
      "source": [
        "history = model.fit(training_padded,training_labels, epochs=30,\n",
        "                    validation_data = (testing_padded, testing_labels),\n",
        "                    verbose=1)"
      ],
      "execution_count": 12,
      "outputs": [
        {
          "output_type": "stream",
          "text": [
            "Epoch 1/30\n",
            "625/625 [==============================] - 2s 3ms/step - loss: 0.4614 - accuracy: 0.7602 - val_loss: 0.3265 - val_accuracy: 0.8599\n",
            "Epoch 2/30\n",
            "625/625 [==============================] - 2s 3ms/step - loss: 0.2138 - accuracy: 0.9144 - val_loss: 0.3233 - val_accuracy: 0.8659\n",
            "Epoch 3/30\n",
            "625/625 [==============================] - 2s 3ms/step - loss: 0.1140 - accuracy: 0.9614 - val_loss: 0.3851 - val_accuracy: 0.8571\n",
            "Epoch 4/30\n",
            "625/625 [==============================] - 2s 3ms/step - loss: 0.0522 - accuracy: 0.9854 - val_loss: 0.4404 - val_accuracy: 0.8556\n",
            "Epoch 5/30\n",
            "625/625 [==============================] - 2s 3ms/step - loss: 0.0214 - accuracy: 0.9962 - val_loss: 0.5172 - val_accuracy: 0.8559\n",
            "Epoch 6/30\n",
            "625/625 [==============================] - 2s 3ms/step - loss: 0.0099 - accuracy: 0.9988 - val_loss: 0.6011 - val_accuracy: 0.8489\n",
            "Epoch 7/30\n",
            "625/625 [==============================] - 2s 3ms/step - loss: 0.0063 - accuracy: 0.9991 - val_loss: 0.6524 - val_accuracy: 0.8463\n",
            "Epoch 8/30\n",
            "625/625 [==============================] - 2s 3ms/step - loss: 0.0036 - accuracy: 0.9993 - val_loss: 0.6958 - val_accuracy: 0.8444\n",
            "Epoch 9/30\n",
            "625/625 [==============================] - 2s 3ms/step - loss: 0.0018 - accuracy: 0.9997 - val_loss: 0.7521 - val_accuracy: 0.8472\n",
            "Epoch 10/30\n",
            "625/625 [==============================] - 2s 3ms/step - loss: 0.0019 - accuracy: 0.9995 - val_loss: 0.7746 - val_accuracy: 0.8504\n",
            "Epoch 11/30\n",
            "625/625 [==============================] - 2s 3ms/step - loss: 0.0015 - accuracy: 0.9995 - val_loss: 0.8200 - val_accuracy: 0.8463\n",
            "Epoch 12/30\n",
            "625/625 [==============================] - 2s 3ms/step - loss: 0.0011 - accuracy: 0.9997 - val_loss: 0.8413 - val_accuracy: 0.8487\n",
            "Epoch 13/30\n",
            "625/625 [==============================] - 2s 3ms/step - loss: 0.0015 - accuracy: 0.9996 - val_loss: 0.9110 - val_accuracy: 0.8432\n",
            "Epoch 14/30\n",
            "625/625 [==============================] - 2s 3ms/step - loss: 0.0015 - accuracy: 0.9996 - val_loss: 0.9070 - val_accuracy: 0.8505\n",
            "Epoch 15/30\n",
            "625/625 [==============================] - 2s 3ms/step - loss: 0.0017 - accuracy: 0.9994 - val_loss: 0.9435 - val_accuracy: 0.8433\n",
            "Epoch 16/30\n",
            "625/625 [==============================] - 2s 3ms/step - loss: 8.0143e-04 - accuracy: 0.9998 - val_loss: 1.0000 - val_accuracy: 0.8439\n",
            "Epoch 17/30\n",
            "625/625 [==============================] - 2s 3ms/step - loss: 9.6552e-04 - accuracy: 0.9998 - val_loss: 1.0226 - val_accuracy: 0.8399\n",
            "Epoch 18/30\n",
            "625/625 [==============================] - 2s 3ms/step - loss: 0.0015 - accuracy: 0.9996 - val_loss: 1.2294 - val_accuracy: 0.8284\n",
            "Epoch 19/30\n",
            "625/625 [==============================] - 2s 3ms/step - loss: 0.0011 - accuracy: 0.9995 - val_loss: 1.0769 - val_accuracy: 0.8436\n",
            "Epoch 20/30\n",
            "625/625 [==============================] - 2s 3ms/step - loss: 9.9523e-04 - accuracy: 0.9997 - val_loss: 1.0904 - val_accuracy: 0.8439\n",
            "Epoch 21/30\n",
            "625/625 [==============================] - 2s 3ms/step - loss: 0.0010 - accuracy: 0.9995 - val_loss: 1.1382 - val_accuracy: 0.8399\n",
            "Epoch 22/30\n",
            "625/625 [==============================] - 2s 3ms/step - loss: 8.9491e-04 - accuracy: 0.9997 - val_loss: 1.0298 - val_accuracy: 0.8429\n",
            "Epoch 23/30\n",
            "625/625 [==============================] - 2s 3ms/step - loss: 9.2315e-04 - accuracy: 0.9997 - val_loss: 1.1252 - val_accuracy: 0.8435\n",
            "Epoch 24/30\n",
            "625/625 [==============================] - 2s 3ms/step - loss: 7.2223e-04 - accuracy: 0.9998 - val_loss: 1.1158 - val_accuracy: 0.8445\n",
            "Epoch 25/30\n",
            "625/625 [==============================] - 2s 3ms/step - loss: 0.0011 - accuracy: 0.9997 - val_loss: 1.1379 - val_accuracy: 0.8425\n",
            "Epoch 26/30\n",
            "625/625 [==============================] - 2s 3ms/step - loss: 6.9639e-04 - accuracy: 0.9998 - val_loss: 1.1861 - val_accuracy: 0.8407\n",
            "Epoch 27/30\n",
            "625/625 [==============================] - 2s 3ms/step - loss: 7.3506e-04 - accuracy: 0.9998 - val_loss: 1.2319 - val_accuracy: 0.8356\n",
            "Epoch 28/30\n",
            "625/625 [==============================] - 2s 3ms/step - loss: 8.5376e-04 - accuracy: 0.9998 - val_loss: 1.2305 - val_accuracy: 0.8404\n",
            "Epoch 29/30\n",
            "625/625 [==============================] - 2s 3ms/step - loss: 7.9773e-04 - accuracy: 0.9998 - val_loss: 1.2452 - val_accuracy: 0.8368\n",
            "Epoch 30/30\n",
            "625/625 [==============================] - 2s 3ms/step - loss: 8.3050e-04 - accuracy: 0.9997 - val_loss: 1.2336 - val_accuracy: 0.8378\n"
          ],
          "name": "stdout"
        }
      ]
    },
    {
      "cell_type": "code",
      "metadata": {
        "id": "R2RbeGkb0rBK",
        "colab_type": "code",
        "colab": {
          "base_uri": "https://localhost:8080/",
          "height": 541
        },
        "outputId": "1f412883-9895-49dd-b7bc-d1c32e379ce3"
      },
      "source": [
        "import matplotlib.pyplot as plt\n",
        "\n",
        "def plot_graphs(history, string):\n",
        "  plt.plot(history.history[string])\n",
        "  plt.plot(history.history['val_'+string])\n",
        "  plt.xlabel(\"Epochs\")\n",
        "  plt.ylabel(string)\n",
        "  plt.legend([string,\"val_\"+string])\n",
        "  plt.show()\n",
        "\n",
        "plot_graphs(history,'accuracy')\n",
        "plot_graphs(history, 'loss')"
      ],
      "execution_count": 13,
      "outputs": [
        {
          "output_type": "display_data",
          "data": {
            "image/png": "[encoded data removed]",
            "text/plain": [
              "<Figure size 432x288 with 1 Axes>"
            ]
          },
          "metadata": {
            "tags": [],
            "needs_background": "light"
          }
        },
        {
          "output_type": "display_data",
          "data": {
            "image/png": "[encoded data removed]",
            "text/plain": [
              "<Figure size 432x288 with 1 Axes>"
            ]
          },
          "metadata": {
            "tags": [],
            "needs_background": "light"
          }
        }
      ]
    }
  ]
}